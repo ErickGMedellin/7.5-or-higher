{
 "cells": [
  {
   "cell_type": "code",
   "execution_count": 1,
   "id": "61df2510",
   "metadata": {},
   "outputs": [],
   "source": [
    "import pandas as pd\n",
    "import numpy as np"
   ]
  },
  {
   "cell_type": "code",
   "execution_count": 35,
   "id": "9a3f5065",
   "metadata": {},
   "outputs": [],
   "source": [
    "import matplotlib.pyplot as plt"
   ]
  },
  {
   "cell_type": "code",
   "execution_count": 2,
   "id": "592c8531",
   "metadata": {},
   "outputs": [],
   "source": [
    "mainpath = \"/Users/erick/OneDrive/Escritorio/Jarvis2/Jupyter/datasets\""
   ]
  },
  {
   "cell_type": "markdown",
   "id": "15b87d4b",
   "metadata": {},
   "source": [
    "# Dataset de atributos básicos\n",
    "\n",
    "### Import con Open"
   ]
  },
  {
   "cell_type": "code",
   "execution_count": 3,
   "id": "ba9b22f0",
   "metadata": {},
   "outputs": [],
   "source": [
    "data_pl = []\n",
    "with open(mainpath + '/' + 'title.basics.tsv',encoding='utf-8', errors='ignore') as f:\n",
    "    lines = f.readlines()\n",
    "    for line in lines:\n",
    "        data_pl.append(line.split('\\t'))"
   ]
  },
  {
   "cell_type": "code",
   "execution_count": 18,
   "id": "1d21afb9",
   "metadata": {},
   "outputs": [],
   "source": [
    "# Selección de los datos que son películas o cortos\n",
    "data_pelis = []\n",
    "data_pelis.append(data_pl[0])\n",
    "for ind in range(len(data_pl)):\n",
    "    if (data_pl[ind][1]=='short' or data_pl[ind][1]=='movie' or data_pl[ind][1]=='tvMovie' or data_pl[ind][1]=='NaN'):\n",
    "        data_pelis.append(data_pl[ind])"
   ]
  },
  {
   "cell_type": "code",
   "execution_count": 19,
   "id": "ba00409e",
   "metadata": {},
   "outputs": [],
   "source": [
    "# Se guarda en un DataFrame\n",
    "DFPelis = pd.DataFrame(data_pelis[1:],columns=data_pelis[0])"
   ]
  },
  {
   "cell_type": "markdown",
   "id": "a58e37b6",
   "metadata": {},
   "source": [
    "### Import con Pandas"
   ]
  },
  {
   "cell_type": "code",
   "execution_count": 13,
   "id": "f9c53fdc",
   "metadata": {},
   "outputs": [
    {
     "name": "stderr",
     "output_type": "stream",
     "text": [
      "C:\\Users\\erick\\miniconda3\\lib\\site-packages\\IPython\\core\\interactiveshell.py:3444: DtypeWarning: Columns (4,5) have mixed types.Specify dtype option on import or set low_memory=False.\n",
      "  exec(code_obj, self.user_global_ns, self.user_ns)\n"
     ]
    },
    {
     "data": {
      "text/html": [
       "<div>\n",
       "<style scoped>\n",
       "    .dataframe tbody tr th:only-of-type {\n",
       "        vertical-align: middle;\n",
       "    }\n",
       "\n",
       "    .dataframe tbody tr th {\n",
       "        vertical-align: top;\n",
       "    }\n",
       "\n",
       "    .dataframe thead th {\n",
       "        text-align: right;\n",
       "    }\n",
       "</style>\n",
       "<table border=\"1\" class=\"dataframe\">\n",
       "  <thead>\n",
       "    <tr style=\"text-align: right;\">\n",
       "      <th></th>\n",
       "      <th>tconst</th>\n",
       "      <th>titleType</th>\n",
       "      <th>primaryTitle</th>\n",
       "      <th>originalTitle</th>\n",
       "      <th>isAdult</th>\n",
       "      <th>startYear</th>\n",
       "      <th>endYear</th>\n",
       "      <th>runtimeMinutes</th>\n",
       "      <th>genres</th>\n",
       "    </tr>\n",
       "  </thead>\n",
       "  <tbody>\n",
       "    <tr>\n",
       "      <th>0</th>\n",
       "      <td>tt0000001</td>\n",
       "      <td>short</td>\n",
       "      <td>Carmencita</td>\n",
       "      <td>Carmencita</td>\n",
       "      <td>0</td>\n",
       "      <td>1894</td>\n",
       "      <td>\\N</td>\n",
       "      <td>1</td>\n",
       "      <td>Documentary,Short</td>\n",
       "    </tr>\n",
       "    <tr>\n",
       "      <th>1</th>\n",
       "      <td>tt0000002</td>\n",
       "      <td>short</td>\n",
       "      <td>Le clown et ses chiens</td>\n",
       "      <td>Le clown et ses chiens</td>\n",
       "      <td>0</td>\n",
       "      <td>1892</td>\n",
       "      <td>\\N</td>\n",
       "      <td>5</td>\n",
       "      <td>Animation,Short</td>\n",
       "    </tr>\n",
       "    <tr>\n",
       "      <th>2</th>\n",
       "      <td>tt0000003</td>\n",
       "      <td>short</td>\n",
       "      <td>Pauvre Pierrot</td>\n",
       "      <td>Pauvre Pierrot</td>\n",
       "      <td>0</td>\n",
       "      <td>1892</td>\n",
       "      <td>\\N</td>\n",
       "      <td>4</td>\n",
       "      <td>Animation,Comedy,Romance</td>\n",
       "    </tr>\n",
       "    <tr>\n",
       "      <th>3</th>\n",
       "      <td>tt0000004</td>\n",
       "      <td>short</td>\n",
       "      <td>Un bon bock</td>\n",
       "      <td>Un bon bock</td>\n",
       "      <td>0</td>\n",
       "      <td>1892</td>\n",
       "      <td>\\N</td>\n",
       "      <td>12</td>\n",
       "      <td>Animation,Short</td>\n",
       "    </tr>\n",
       "    <tr>\n",
       "      <th>4</th>\n",
       "      <td>tt0000005</td>\n",
       "      <td>short</td>\n",
       "      <td>Blacksmith Scene</td>\n",
       "      <td>Blacksmith Scene</td>\n",
       "      <td>0</td>\n",
       "      <td>1893</td>\n",
       "      <td>\\N</td>\n",
       "      <td>1</td>\n",
       "      <td>Comedy,Short</td>\n",
       "    </tr>\n",
       "  </tbody>\n",
       "</table>\n",
       "</div>"
      ],
      "text/plain": [
       "      tconst titleType            primaryTitle           originalTitle  \\\n",
       "0  tt0000001     short              Carmencita              Carmencita   \n",
       "1  tt0000002     short  Le clown et ses chiens  Le clown et ses chiens   \n",
       "2  tt0000003     short          Pauvre Pierrot          Pauvre Pierrot   \n",
       "3  tt0000004     short             Un bon bock             Un bon bock   \n",
       "4  tt0000005     short        Blacksmith Scene        Blacksmith Scene   \n",
       "\n",
       "  isAdult startYear endYear runtimeMinutes                    genres  \n",
       "0       0      1894      \\N              1         Documentary,Short  \n",
       "1       0      1892      \\N              5           Animation,Short  \n",
       "2       0      1892      \\N              4  Animation,Comedy,Romance  \n",
       "3       0      1892      \\N             12           Animation,Short  \n",
       "4       0      1893      \\N              1              Comedy,Short  "
      ]
     },
     "execution_count": 13,
     "metadata": {},
     "output_type": "execute_result"
    }
   ],
   "source": [
    "#opening the dataset using pandas\n",
    "data = pd.read_csv(mainpath + '/' + 'title.basics.tsv', delimiter = '\\t')\n",
    "data.head()"
   ]
  },
  {
   "cell_type": "code",
   "execution_count": 79,
   "id": "14133aad",
   "metadata": {},
   "outputs": [
    {
     "data": {
      "text/plain": [
       "{'movie',\n",
       " 'short',\n",
       " 'tvEpisode',\n",
       " 'tvMiniSeries',\n",
       " 'tvMovie',\n",
       " 'tvPilot',\n",
       " 'tvSeries',\n",
       " 'tvShort',\n",
       " 'tvSpecial',\n",
       " 'video',\n",
       " 'videoGame'}"
      ]
     },
     "execution_count": 79,
     "metadata": {},
     "output_type": "execute_result"
    }
   ],
   "source": [
    "#Muestra de los tipos de títulos sin repetición\n",
    "set(data['titleType'])"
   ]
  },
  {
   "cell_type": "markdown",
   "id": "8a694415",
   "metadata": {},
   "source": [
    "# Dataset de ratings\n",
    "\n",
    "### Ya solo con pandas"
   ]
  },
  {
   "cell_type": "code",
   "execution_count": 6,
   "id": "11c5289f",
   "metadata": {},
   "outputs": [],
   "source": [
    "data_rt = pd.read_csv(mainpath + '/' + 'title.ratings.tsv.csv', delimiter = ',')\n",
    "#data_rt.head()"
   ]
  },
  {
   "cell_type": "code",
   "execution_count": 7,
   "id": "2791fbba",
   "metadata": {},
   "outputs": [],
   "source": [
    "#Condiciones para buscar las películas con más de 7.5 de calificadión y más de 1000 votos\n",
    "good_ind = data_rt['averageRating']>7.5\n",
    "votes = data_rt['numVotes']>1000"
   ]
  },
  {
   "cell_type": "code",
   "execution_count": 8,
   "id": "e2cef3eb",
   "metadata": {},
   "outputs": [],
   "source": [
    "#Intersección de las condiciones anteriores y guardado del folio 'tconst'\n",
    "inter = np.logical_and(good_ind,votes)\n",
    "tconst = data_rt.loc[inter].drop(['numVotes'],axis=1)"
   ]
  },
  {
   "cell_type": "markdown",
   "id": "194b2093",
   "metadata": {},
   "source": [
    "## Películas selectas por ver"
   ]
  },
  {
   "cell_type": "code",
   "execution_count": 20,
   "id": "fbe7c1da",
   "metadata": {},
   "outputs": [],
   "source": [
    "#Se usa la función merge para encontrar la intersección según los folios tconst\n",
    "prueba = pd.merge(DFPelis,tconst, how='right',on=['tconst'])"
   ]
  },
  {
   "cell_type": "code",
   "execution_count": 23,
   "id": "b2265a9c",
   "metadata": {},
   "outputs": [],
   "source": [
    "#Finalmente se guarda en FinalDF omitiendo las columnas del primer drop\n",
    "# porque no aportan nada y omitiendo los renglones con valores NaN\n",
    "FinalDF = prueba.drop(['endYear','tconst','isAdult'],axis=1).dropna()"
   ]
  },
  {
   "cell_type": "code",
   "execution_count": 24,
   "id": "44b20746",
   "metadata": {},
   "outputs": [
    {
     "data": {
      "text/html": [
       "<div>\n",
       "<style scoped>\n",
       "    .dataframe tbody tr th:only-of-type {\n",
       "        vertical-align: middle;\n",
       "    }\n",
       "\n",
       "    .dataframe tbody tr th {\n",
       "        vertical-align: top;\n",
       "    }\n",
       "\n",
       "    .dataframe thead th {\n",
       "        text-align: right;\n",
       "    }\n",
       "</style>\n",
       "<table border=\"1\" class=\"dataframe\">\n",
       "  <thead>\n",
       "    <tr style=\"text-align: right;\">\n",
       "      <th></th>\n",
       "      <th>titleType</th>\n",
       "      <th>primaryTitle</th>\n",
       "      <th>originalTitle</th>\n",
       "      <th>startYear</th>\n",
       "      <th>runtimeMinutes</th>\n",
       "      <th>genres\\n</th>\n",
       "      <th>averageRating</th>\n",
       "    </tr>\n",
       "  </thead>\n",
       "  <tbody>\n",
       "    <tr>\n",
       "      <th>0</th>\n",
       "      <td>short</td>\n",
       "      <td>A Trip to the Moon</td>\n",
       "      <td>Le voyage dans la lune</td>\n",
       "      <td>1902</td>\n",
       "      <td>13</td>\n",
       "      <td>Action,Adventure,Comedy\\n</td>\n",
       "      <td>8.2</td>\n",
       "    </tr>\n",
       "    <tr>\n",
       "      <th>1</th>\n",
       "      <td>short</td>\n",
       "      <td>The Cameraman's Revenge</td>\n",
       "      <td>Mest kinematograficheskogo operatora</td>\n",
       "      <td>1912</td>\n",
       "      <td>12</td>\n",
       "      <td>Animation,Comedy,Fantasy\\n</td>\n",
       "      <td>7.7</td>\n",
       "    </tr>\n",
       "    <tr>\n",
       "      <th>2</th>\n",
       "      <td>movie</td>\n",
       "      <td>Intolerance</td>\n",
       "      <td>Intolerance: Love's Struggle Throughout the Ages</td>\n",
       "      <td>1916</td>\n",
       "      <td>163</td>\n",
       "      <td>Drama,History\\n</td>\n",
       "      <td>7.7</td>\n",
       "    </tr>\n",
       "    <tr>\n",
       "      <th>3</th>\n",
       "      <td>short</td>\n",
       "      <td>The Immigrant</td>\n",
       "      <td>The Immigrant</td>\n",
       "      <td>1917</td>\n",
       "      <td>30</td>\n",
       "      <td>Comedy,Drama,Romance\\n</td>\n",
       "      <td>7.6</td>\n",
       "    </tr>\n",
       "    <tr>\n",
       "      <th>4</th>\n",
       "      <td>short</td>\n",
       "      <td>A Dog's Life</td>\n",
       "      <td>A Dog's Life</td>\n",
       "      <td>1918</td>\n",
       "      <td>33</td>\n",
       "      <td>Comedy,Drama,Short\\n</td>\n",
       "      <td>7.7</td>\n",
       "    </tr>\n",
       "    <tr>\n",
       "      <th>...</th>\n",
       "      <td>...</td>\n",
       "      <td>...</td>\n",
       "      <td>...</td>\n",
       "      <td>...</td>\n",
       "      <td>...</td>\n",
       "      <td>...</td>\n",
       "      <td>...</td>\n",
       "    </tr>\n",
       "    <tr>\n",
       "      <th>22326</th>\n",
       "      <td>tvMovie</td>\n",
       "      <td>Terra</td>\n",
       "      <td>Terra</td>\n",
       "      <td>2015</td>\n",
       "      <td>98</td>\n",
       "      <td>Documentary\\n</td>\n",
       "      <td>8.3</td>\n",
       "    </tr>\n",
       "    <tr>\n",
       "      <th>22345</th>\n",
       "      <td>short</td>\n",
       "      <td>Alan Partridge's Scissored Isle</td>\n",
       "      <td>Alan Partridge's Scissored Isle</td>\n",
       "      <td>2016</td>\n",
       "      <td>44</td>\n",
       "      <td>Comedy,Short\\n</td>\n",
       "      <td>8.0</td>\n",
       "    </tr>\n",
       "    <tr>\n",
       "      <th>22368</th>\n",
       "      <td>movie</td>\n",
       "      <td>Hindi Medium</td>\n",
       "      <td>Hindi Medium</td>\n",
       "      <td>2017</td>\n",
       "      <td>132</td>\n",
       "      <td>Comedy,Drama\\n</td>\n",
       "      <td>7.9</td>\n",
       "    </tr>\n",
       "    <tr>\n",
       "      <th>22383</th>\n",
       "      <td>movie</td>\n",
       "      <td>Dominion</td>\n",
       "      <td>Dominion</td>\n",
       "      <td>2018</td>\n",
       "      <td>120</td>\n",
       "      <td>Documentary\\n</td>\n",
       "      <td>9.1</td>\n",
       "    </tr>\n",
       "    <tr>\n",
       "      <th>22393</th>\n",
       "      <td>movie</td>\n",
       "      <td>One More Time with Feeling</td>\n",
       "      <td>One More Time with Feeling</td>\n",
       "      <td>2016</td>\n",
       "      <td>113</td>\n",
       "      <td>Documentary,Music\\n</td>\n",
       "      <td>8.2</td>\n",
       "    </tr>\n",
       "  </tbody>\n",
       "</table>\n",
       "<p>4555 rows × 7 columns</p>\n",
       "</div>"
      ],
      "text/plain": [
       "      titleType                     primaryTitle  \\\n",
       "0         short               A Trip to the Moon   \n",
       "1         short          The Cameraman's Revenge   \n",
       "2         movie                      Intolerance   \n",
       "3         short                    The Immigrant   \n",
       "4         short                     A Dog's Life   \n",
       "...         ...                              ...   \n",
       "22326   tvMovie                            Terra   \n",
       "22345     short  Alan Partridge's Scissored Isle   \n",
       "22368     movie                     Hindi Medium   \n",
       "22383     movie                         Dominion   \n",
       "22393     movie       One More Time with Feeling   \n",
       "\n",
       "                                          originalTitle startYear  \\\n",
       "0                                Le voyage dans la lune      1902   \n",
       "1                  Mest kinematograficheskogo operatora      1912   \n",
       "2      Intolerance: Love's Struggle Throughout the Ages      1916   \n",
       "3                                         The Immigrant      1917   \n",
       "4                                          A Dog's Life      1918   \n",
       "...                                                 ...       ...   \n",
       "22326                                             Terra      2015   \n",
       "22345                   Alan Partridge's Scissored Isle      2016   \n",
       "22368                                      Hindi Medium      2017   \n",
       "22383                                          Dominion      2018   \n",
       "22393                        One More Time with Feeling      2016   \n",
       "\n",
       "      runtimeMinutes                    genres\\n  averageRating  \n",
       "0                 13   Action,Adventure,Comedy\\n            8.2  \n",
       "1                 12  Animation,Comedy,Fantasy\\n            7.7  \n",
       "2                163             Drama,History\\n            7.7  \n",
       "3                 30      Comedy,Drama,Romance\\n            7.6  \n",
       "4                 33        Comedy,Drama,Short\\n            7.7  \n",
       "...              ...                         ...            ...  \n",
       "22326             98               Documentary\\n            8.3  \n",
       "22345             44              Comedy,Short\\n            8.0  \n",
       "22368            132              Comedy,Drama\\n            7.9  \n",
       "22383            120               Documentary\\n            9.1  \n",
       "22393            113         Documentary,Music\\n            8.2  \n",
       "\n",
       "[4555 rows x 7 columns]"
      ]
     },
     "execution_count": 24,
     "metadata": {},
     "output_type": "execute_result"
    }
   ],
   "source": [
    "FinalDF"
   ]
  },
  {
   "cell_type": "markdown",
   "id": "7f260253",
   "metadata": {},
   "source": [
    "## A continuación se divide en cortos y películas"
   ]
  },
  {
   "cell_type": "code",
   "execution_count": 36,
   "id": "05ed3aa3",
   "metadata": {},
   "outputs": [
    {
     "data": {
      "text/plain": [
       "393"
      ]
     },
     "execution_count": 36,
     "metadata": {},
     "output_type": "execute_result"
    }
   ],
   "source": [
    "DFShorts = FinalDF[FinalDF['titleType']=='short'].drop('titleType',axis=1)\n",
    "len(DFShorts)"
   ]
  },
  {
   "cell_type": "code",
   "execution_count": 37,
   "id": "dbe4bd7d",
   "metadata": {},
   "outputs": [
    {
     "data": {
      "text/plain": [
       "4162"
      ]
     },
     "execution_count": 37,
     "metadata": {},
     "output_type": "execute_result"
    }
   ],
   "source": [
    "PelisFinal = FinalDF[FinalDF['titleType']!='short'].drop('titleType',axis=1)\n",
    "len(PelisFinal)"
   ]
  },
  {
   "cell_type": "markdown",
   "id": "e6703f8b",
   "metadata": {},
   "source": [
    "## Ahora se muestran las gráficas con la duración nomás pq puedo"
   ]
  },
  {
   "cell_type": "code",
   "execution_count": null,
   "id": "ff72e497",
   "metadata": {},
   "outputs": [],
   "source": []
  }
 ],
 "metadata": {
  "kernelspec": {
   "display_name": "Python 3 (ipykernel)",
   "language": "python",
   "name": "python3"
  },
  "language_info": {
   "codemirror_mode": {
    "name": "ipython",
    "version": 3
   },
   "file_extension": ".py",
   "mimetype": "text/x-python",
   "name": "python",
   "nbconvert_exporter": "python",
   "pygments_lexer": "ipython3",
   "version": "3.9.5"
  }
 },
 "nbformat": 4,
 "nbformat_minor": 5
}
