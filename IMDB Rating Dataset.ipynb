{
 "cells": [
  {
   "cell_type": "code",
   "execution_count": 1,
   "id": "61df2510",
   "metadata": {},
   "outputs": [],
   "source": [
    "import pandas as pd\n",
    "import numpy as np\n",
    "import timeit\n",
    "import matplotlib.pyplot as plt\n",
    "mainpath = \"/Users/erick/OneDrive/Escritorio/Jarvis2/Jupyter/datasets\""
   ]
  },
  {
   "cell_type": "markdown",
   "id": "15b87d4b",
   "metadata": {},
   "source": [
    "# Dataset de atributos básicos\n",
    "\n",
    "### Import con Open"
   ]
  },
  {
   "cell_type": "code",
   "execution_count": 3,
   "id": "ba9b22f0",
   "metadata": {},
   "outputs": [],
   "source": [
    "data_pl = []\n",
    "with open(mainpath + '/' + 'title.basics.tsv',encoding='utf-8', errors='ignore') as f:\n",
    "    lines = f.readlines()\n",
    "    for line in lines:\n",
    "        data_pl.append(line.split('\\t'))"
   ]
  },
  {
   "cell_type": "code",
   "execution_count": 4,
   "id": "1d21afb9",
   "metadata": {},
   "outputs": [],
   "source": [
    "# Selección de los datos que son películas o cortos\n",
    "data_pelis = []\n",
    "data_pelis.append(data_pl[0])\n",
    "for ind in range(len(data_pl)):\n",
    "    if (data_pl[ind][1]=='short' or data_pl[ind][1]=='movie' or data_pl[ind][1]=='tvMovie' or data_pl[ind][1]=='NaN'):\n",
    "        data_pelis.append(data_pl[ind])"
   ]
  },
  {
   "cell_type": "code",
   "execution_count": 5,
   "id": "ba00409e",
   "metadata": {},
   "outputs": [],
   "source": [
    "# Se guarda en un DataFrame\n",
    "DFPelis = pd.DataFrame(data_pelis[1:],columns=data_pelis[0])"
   ]
  },
  {
   "cell_type": "markdown",
   "id": "a58e37b6",
   "metadata": {},
   "source": [
    "### Import con Pandas"
   ]
  },
  {
   "cell_type": "code",
   "execution_count": 13,
   "id": "f9c53fdc",
   "metadata": {},
   "outputs": [
    {
     "name": "stderr",
     "output_type": "stream",
     "text": [
      "C:\\Users\\erick\\miniconda3\\lib\\site-packages\\IPython\\core\\interactiveshell.py:3444: DtypeWarning: Columns (4,5) have mixed types.Specify dtype option on import or set low_memory=False.\n",
      "  exec(code_obj, self.user_global_ns, self.user_ns)\n"
     ]
    },
    {
     "data": {
      "text/html": [
       "<div>\n",
       "<style scoped>\n",
       "    .dataframe tbody tr th:only-of-type {\n",
       "        vertical-align: middle;\n",
       "    }\n",
       "\n",
       "    .dataframe tbody tr th {\n",
       "        vertical-align: top;\n",
       "    }\n",
       "\n",
       "    .dataframe thead th {\n",
       "        text-align: right;\n",
       "    }\n",
       "</style>\n",
       "<table border=\"1\" class=\"dataframe\">\n",
       "  <thead>\n",
       "    <tr style=\"text-align: right;\">\n",
       "      <th></th>\n",
       "      <th>tconst</th>\n",
       "      <th>titleType</th>\n",
       "      <th>primaryTitle</th>\n",
       "      <th>originalTitle</th>\n",
       "      <th>isAdult</th>\n",
       "      <th>startYear</th>\n",
       "      <th>endYear</th>\n",
       "      <th>runtimeMinutes</th>\n",
       "      <th>genres</th>\n",
       "    </tr>\n",
       "  </thead>\n",
       "  <tbody>\n",
       "    <tr>\n",
       "      <th>0</th>\n",
       "      <td>tt0000001</td>\n",
       "      <td>short</td>\n",
       "      <td>Carmencita</td>\n",
       "      <td>Carmencita</td>\n",
       "      <td>0</td>\n",
       "      <td>1894</td>\n",
       "      <td>\\N</td>\n",
       "      <td>1</td>\n",
       "      <td>Documentary,Short</td>\n",
       "    </tr>\n",
       "    <tr>\n",
       "      <th>1</th>\n",
       "      <td>tt0000002</td>\n",
       "      <td>short</td>\n",
       "      <td>Le clown et ses chiens</td>\n",
       "      <td>Le clown et ses chiens</td>\n",
       "      <td>0</td>\n",
       "      <td>1892</td>\n",
       "      <td>\\N</td>\n",
       "      <td>5</td>\n",
       "      <td>Animation,Short</td>\n",
       "    </tr>\n",
       "    <tr>\n",
       "      <th>2</th>\n",
       "      <td>tt0000003</td>\n",
       "      <td>short</td>\n",
       "      <td>Pauvre Pierrot</td>\n",
       "      <td>Pauvre Pierrot</td>\n",
       "      <td>0</td>\n",
       "      <td>1892</td>\n",
       "      <td>\\N</td>\n",
       "      <td>4</td>\n",
       "      <td>Animation,Comedy,Romance</td>\n",
       "    </tr>\n",
       "    <tr>\n",
       "      <th>3</th>\n",
       "      <td>tt0000004</td>\n",
       "      <td>short</td>\n",
       "      <td>Un bon bock</td>\n",
       "      <td>Un bon bock</td>\n",
       "      <td>0</td>\n",
       "      <td>1892</td>\n",
       "      <td>\\N</td>\n",
       "      <td>12</td>\n",
       "      <td>Animation,Short</td>\n",
       "    </tr>\n",
       "    <tr>\n",
       "      <th>4</th>\n",
       "      <td>tt0000005</td>\n",
       "      <td>short</td>\n",
       "      <td>Blacksmith Scene</td>\n",
       "      <td>Blacksmith Scene</td>\n",
       "      <td>0</td>\n",
       "      <td>1893</td>\n",
       "      <td>\\N</td>\n",
       "      <td>1</td>\n",
       "      <td>Comedy,Short</td>\n",
       "    </tr>\n",
       "  </tbody>\n",
       "</table>\n",
       "</div>"
      ],
      "text/plain": [
       "      tconst titleType            primaryTitle           originalTitle  \\\n",
       "0  tt0000001     short              Carmencita              Carmencita   \n",
       "1  tt0000002     short  Le clown et ses chiens  Le clown et ses chiens   \n",
       "2  tt0000003     short          Pauvre Pierrot          Pauvre Pierrot   \n",
       "3  tt0000004     short             Un bon bock             Un bon bock   \n",
       "4  tt0000005     short        Blacksmith Scene        Blacksmith Scene   \n",
       "\n",
       "  isAdult startYear endYear runtimeMinutes                    genres  \n",
       "0       0      1894      \\N              1         Documentary,Short  \n",
       "1       0      1892      \\N              5           Animation,Short  \n",
       "2       0      1892      \\N              4  Animation,Comedy,Romance  \n",
       "3       0      1892      \\N             12           Animation,Short  \n",
       "4       0      1893      \\N              1              Comedy,Short  "
      ]
     },
     "execution_count": 13,
     "metadata": {},
     "output_type": "execute_result"
    }
   ],
   "source": [
    "#opening the dataset using pandas\n",
    "data = pd.read_csv(mainpath + '/' + 'title.basics.tsv', delimiter = '\\t')\n",
    "data.head()"
   ]
  },
  {
   "cell_type": "code",
   "execution_count": 79,
   "id": "14133aad",
   "metadata": {},
   "outputs": [
    {
     "data": {
      "text/plain": [
       "{'movie',\n",
       " 'short',\n",
       " 'tvEpisode',\n",
       " 'tvMiniSeries',\n",
       " 'tvMovie',\n",
       " 'tvPilot',\n",
       " 'tvSeries',\n",
       " 'tvShort',\n",
       " 'tvSpecial',\n",
       " 'video',\n",
       " 'videoGame'}"
      ]
     },
     "execution_count": 79,
     "metadata": {},
     "output_type": "execute_result"
    }
   ],
   "source": [
    "#Muestra de los tipos de títulos sin repetición\n",
    "set(data['titleType'])"
   ]
  },
  {
   "cell_type": "markdown",
   "id": "8a694415",
   "metadata": {},
   "source": [
    "# Dataset de ratings\n",
    "\n",
    "### Ya solo con pandas"
   ]
  },
  {
   "cell_type": "code",
   "execution_count": 6,
   "id": "11c5289f",
   "metadata": {},
   "outputs": [],
   "source": [
    "data_rt = pd.read_csv(mainpath + '/' + 'title.ratings.tsv.csv', delimiter = ',')\n",
    "#data_rt.head()"
   ]
  },
  {
   "cell_type": "code",
   "execution_count": 7,
   "id": "2791fbba",
   "metadata": {},
   "outputs": [],
   "source": [
    "#Condiciones para buscar las películas con más de 7.5 de calificadión y más de 1000 votos\n",
    "good_ind = data_rt['averageRating']>7.5\n",
    "votes = data_rt['numVotes']>1000"
   ]
  },
  {
   "cell_type": "code",
   "execution_count": 8,
   "id": "e2cef3eb",
   "metadata": {},
   "outputs": [],
   "source": [
    "#Intersección de las condiciones anteriores y guardado del folio 'tconst'\n",
    "inter = np.logical_and(good_ind,votes)\n",
    "tconst = data_rt.loc[inter].drop(['numVotes'],axis=1)"
   ]
  },
  {
   "cell_type": "markdown",
   "id": "194b2093",
   "metadata": {},
   "source": [
    "## Películas selectas por ver"
   ]
  },
  {
   "cell_type": "code",
   "execution_count": 9,
   "id": "fbe7c1da",
   "metadata": {},
   "outputs": [],
   "source": [
    "#Se usa la función merge para encontrar la intersección según los folios tconst\n",
    "prueba = pd.merge(DFPelis,tconst, how='right',on=['tconst'])"
   ]
  },
  {
   "cell_type": "code",
   "execution_count": 10,
   "id": "b2265a9c",
   "metadata": {},
   "outputs": [],
   "source": [
    "#Finalmente se guarda en FinalDF omitiendo las columnas del primer drop\n",
    "# porque no aportan nada y omitiendo los renglones con valores NaN\n",
    "FinalDF = prueba.drop(['endYear','tconst','isAdult'],axis=1).dropna()"
   ]
  },
  {
   "cell_type": "code",
   "execution_count": 11,
   "id": "44b20746",
   "metadata": {},
   "outputs": [
    {
     "data": {
      "text/html": [
       "<div>\n",
       "<style scoped>\n",
       "    .dataframe tbody tr th:only-of-type {\n",
       "        vertical-align: middle;\n",
       "    }\n",
       "\n",
       "    .dataframe tbody tr th {\n",
       "        vertical-align: top;\n",
       "    }\n",
       "\n",
       "    .dataframe thead th {\n",
       "        text-align: right;\n",
       "    }\n",
       "</style>\n",
       "<table border=\"1\" class=\"dataframe\">\n",
       "  <thead>\n",
       "    <tr style=\"text-align: right;\">\n",
       "      <th></th>\n",
       "      <th>titleType</th>\n",
       "      <th>primaryTitle</th>\n",
       "      <th>originalTitle</th>\n",
       "      <th>startYear</th>\n",
       "      <th>runtimeMinutes</th>\n",
       "      <th>genres\\n</th>\n",
       "      <th>averageRating</th>\n",
       "    </tr>\n",
       "  </thead>\n",
       "  <tbody>\n",
       "    <tr>\n",
       "      <th>0</th>\n",
       "      <td>short</td>\n",
       "      <td>A Trip to the Moon</td>\n",
       "      <td>Le voyage dans la lune</td>\n",
       "      <td>1902</td>\n",
       "      <td>13</td>\n",
       "      <td>Action,Adventure,Comedy\\n</td>\n",
       "      <td>8.2</td>\n",
       "    </tr>\n",
       "    <tr>\n",
       "      <th>1</th>\n",
       "      <td>short</td>\n",
       "      <td>The Cameraman's Revenge</td>\n",
       "      <td>Mest kinematograficheskogo operatora</td>\n",
       "      <td>1912</td>\n",
       "      <td>12</td>\n",
       "      <td>Animation,Comedy,Fantasy\\n</td>\n",
       "      <td>7.7</td>\n",
       "    </tr>\n",
       "    <tr>\n",
       "      <th>2</th>\n",
       "      <td>movie</td>\n",
       "      <td>Intolerance</td>\n",
       "      <td>Intolerance: Love's Struggle Throughout the Ages</td>\n",
       "      <td>1916</td>\n",
       "      <td>163</td>\n",
       "      <td>Drama,History\\n</td>\n",
       "      <td>7.7</td>\n",
       "    </tr>\n",
       "    <tr>\n",
       "      <th>3</th>\n",
       "      <td>short</td>\n",
       "      <td>The Immigrant</td>\n",
       "      <td>The Immigrant</td>\n",
       "      <td>1917</td>\n",
       "      <td>30</td>\n",
       "      <td>Comedy,Drama,Romance\\n</td>\n",
       "      <td>7.6</td>\n",
       "    </tr>\n",
       "    <tr>\n",
       "      <th>4</th>\n",
       "      <td>short</td>\n",
       "      <td>A Dog's Life</td>\n",
       "      <td>A Dog's Life</td>\n",
       "      <td>1918</td>\n",
       "      <td>33</td>\n",
       "      <td>Comedy,Drama,Short\\n</td>\n",
       "      <td>7.7</td>\n",
       "    </tr>\n",
       "    <tr>\n",
       "      <th>...</th>\n",
       "      <td>...</td>\n",
       "      <td>...</td>\n",
       "      <td>...</td>\n",
       "      <td>...</td>\n",
       "      <td>...</td>\n",
       "      <td>...</td>\n",
       "      <td>...</td>\n",
       "    </tr>\n",
       "    <tr>\n",
       "      <th>22326</th>\n",
       "      <td>tvMovie</td>\n",
       "      <td>Terra</td>\n",
       "      <td>Terra</td>\n",
       "      <td>2015</td>\n",
       "      <td>98</td>\n",
       "      <td>Documentary\\n</td>\n",
       "      <td>8.3</td>\n",
       "    </tr>\n",
       "    <tr>\n",
       "      <th>22345</th>\n",
       "      <td>short</td>\n",
       "      <td>Alan Partridge's Scissored Isle</td>\n",
       "      <td>Alan Partridge's Scissored Isle</td>\n",
       "      <td>2016</td>\n",
       "      <td>44</td>\n",
       "      <td>Comedy,Short\\n</td>\n",
       "      <td>8.0</td>\n",
       "    </tr>\n",
       "    <tr>\n",
       "      <th>22368</th>\n",
       "      <td>movie</td>\n",
       "      <td>Hindi Medium</td>\n",
       "      <td>Hindi Medium</td>\n",
       "      <td>2017</td>\n",
       "      <td>132</td>\n",
       "      <td>Comedy,Drama\\n</td>\n",
       "      <td>7.9</td>\n",
       "    </tr>\n",
       "    <tr>\n",
       "      <th>22383</th>\n",
       "      <td>movie</td>\n",
       "      <td>Dominion</td>\n",
       "      <td>Dominion</td>\n",
       "      <td>2018</td>\n",
       "      <td>120</td>\n",
       "      <td>Documentary\\n</td>\n",
       "      <td>9.1</td>\n",
       "    </tr>\n",
       "    <tr>\n",
       "      <th>22393</th>\n",
       "      <td>movie</td>\n",
       "      <td>One More Time with Feeling</td>\n",
       "      <td>One More Time with Feeling</td>\n",
       "      <td>2016</td>\n",
       "      <td>113</td>\n",
       "      <td>Documentary,Music\\n</td>\n",
       "      <td>8.2</td>\n",
       "    </tr>\n",
       "  </tbody>\n",
       "</table>\n",
       "<p>4555 rows × 7 columns</p>\n",
       "</div>"
      ],
      "text/plain": [
       "      titleType                     primaryTitle  \\\n",
       "0         short               A Trip to the Moon   \n",
       "1         short          The Cameraman's Revenge   \n",
       "2         movie                      Intolerance   \n",
       "3         short                    The Immigrant   \n",
       "4         short                     A Dog's Life   \n",
       "...         ...                              ...   \n",
       "22326   tvMovie                            Terra   \n",
       "22345     short  Alan Partridge's Scissored Isle   \n",
       "22368     movie                     Hindi Medium   \n",
       "22383     movie                         Dominion   \n",
       "22393     movie       One More Time with Feeling   \n",
       "\n",
       "                                          originalTitle startYear  \\\n",
       "0                                Le voyage dans la lune      1902   \n",
       "1                  Mest kinematograficheskogo operatora      1912   \n",
       "2      Intolerance: Love's Struggle Throughout the Ages      1916   \n",
       "3                                         The Immigrant      1917   \n",
       "4                                          A Dog's Life      1918   \n",
       "...                                                 ...       ...   \n",
       "22326                                             Terra      2015   \n",
       "22345                   Alan Partridge's Scissored Isle      2016   \n",
       "22368                                      Hindi Medium      2017   \n",
       "22383                                          Dominion      2018   \n",
       "22393                        One More Time with Feeling      2016   \n",
       "\n",
       "      runtimeMinutes                    genres\\n  averageRating  \n",
       "0                 13   Action,Adventure,Comedy\\n            8.2  \n",
       "1                 12  Animation,Comedy,Fantasy\\n            7.7  \n",
       "2                163             Drama,History\\n            7.7  \n",
       "3                 30      Comedy,Drama,Romance\\n            7.6  \n",
       "4                 33        Comedy,Drama,Short\\n            7.7  \n",
       "...              ...                         ...            ...  \n",
       "22326             98               Documentary\\n            8.3  \n",
       "22345             44              Comedy,Short\\n            8.0  \n",
       "22368            132              Comedy,Drama\\n            7.9  \n",
       "22383            120               Documentary\\n            9.1  \n",
       "22393            113         Documentary,Music\\n            8.2  \n",
       "\n",
       "[4555 rows x 7 columns]"
      ]
     },
     "execution_count": 11,
     "metadata": {},
     "output_type": "execute_result"
    }
   ],
   "source": [
    "FinalDF"
   ]
  },
  {
   "cell_type": "markdown",
   "id": "7f260253",
   "metadata": {},
   "source": [
    "## A continuación se divide en cortos y películas"
   ]
  },
  {
   "cell_type": "code",
   "execution_count": 12,
   "id": "05ed3aa3",
   "metadata": {},
   "outputs": [
    {
     "data": {
      "text/plain": [
       "393"
      ]
     },
     "execution_count": 12,
     "metadata": {},
     "output_type": "execute_result"
    }
   ],
   "source": [
    "DFShorts = FinalDF[FinalDF['titleType']=='short'].drop('titleType',axis=1)\n",
    "len(DFShorts)"
   ]
  },
  {
   "cell_type": "code",
   "execution_count": 13,
   "id": "dbe4bd7d",
   "metadata": {},
   "outputs": [
    {
     "data": {
      "text/plain": [
       "4162"
      ]
     },
     "execution_count": 13,
     "metadata": {},
     "output_type": "execute_result"
    }
   ],
   "source": [
    "PelisFinal = FinalDF[FinalDF['titleType']!='short'].drop('titleType',axis=1)\n",
    "len(PelisFinal)"
   ]
  },
  {
   "cell_type": "markdown",
   "id": "10252f92",
   "metadata": {},
   "source": [
    "#### *Export & import de los dataframes para no repetir lo anterior*"
   ]
  },
  {
   "cell_type": "code",
   "execution_count": 15,
   "id": "470764ee",
   "metadata": {},
   "outputs": [],
   "source": [
    "DFShorts.to_csv(mainpath + r'/shorts75.csv', index=False, header = True)\n",
    "PelisFinal.to_csv(mainpath + r'/movies75.csv', index=False, header = True)"
   ]
  },
  {
   "cell_type": "code",
   "execution_count": 2,
   "id": "1ba05835",
   "metadata": {},
   "outputs": [],
   "source": [
    "#Aquí se importan\n",
    "DFShorts = pd.read_csv(mainpath + '/shorts75.csv', delimiter = ',')\n",
    "DFMovies = pd.read_csv(mainpath + '/movies75.csv', delimiter = ',')"
   ]
  },
  {
   "cell_type": "markdown",
   "id": "e6703f8b",
   "metadata": {},
   "source": [
    "# Gráficas que muestran la duración\n",
    "\n",
    "### Histograma de los cortos"
   ]
  },
  {
   "cell_type": "code",
   "execution_count": 3,
   "id": "2595a896",
   "metadata": {},
   "outputs": [],
   "source": [
    "# Se hace una depuración debido a que \n",
    "#hay algunos títulos sin valores de duración\n",
    "DFShorts1 = DFShorts[DFShorts['runtimeMinutes']!='\\\\N']\n",
    "dur_sho = sorted(list(map(int, DFShorts1['runtimeMinutes'])))"
   ]
  },
  {
   "cell_type": "code",
   "execution_count": 4,
   "id": "85682f8f",
   "metadata": {},
   "outputs": [
    {
     "data": {
      "text/plain": [
       "Text(0.5, 1.0, 'Short Durations')"
      ]
     },
     "execution_count": 4,
     "metadata": {},
     "output_type": "execute_result"
    },
    {
     "data": {
      "image/png": "[encoded data removed]",
      "text/plain": [
       "<Figure size 432x288 with 1 Axes>"
      ]
     },
     "metadata": {
      "needs_background": "light"
     },
     "output_type": "display_data"
    }
   ],
   "source": [
    "# Histograma \n",
    "plt.hist(dur_sho, bins = 9)\n",
    "plt.grid(axis='y', alpha=0.75)\n",
    "plt.xlabel('Duration (Min)')\n",
    "plt.ylabel('Number of shorts')\n",
    "plt.title('Short Durations')"
   ]
  },
  {
   "cell_type": "markdown",
   "id": "e3c91b0b",
   "metadata": {},
   "source": [
    "### Histograma de películas"
   ]
  },
  {
   "cell_type": "code",
   "execution_count": 5,
   "id": "bd457ad9",
   "metadata": {},
   "outputs": [],
   "source": [
    "# Depuración de títulos sin duración\n",
    "DFMovies1 = DFMovies[DFMovies['runtimeMinutes']!='\\\\N']\n",
    "dur_mov = sorted(list(map(int, DFMovies1['runtimeMinutes'])))"
   ]
  },
  {
   "cell_type": "code",
   "execution_count": 6,
   "id": "a5671ca7",
   "metadata": {},
   "outputs": [
    {
     "data": {
      "text/plain": [
       "Text(0.5, 1.0, 'Movie Durations')"
      ]
     },
     "execution_count": 6,
     "metadata": {},
     "output_type": "execute_result"
    },
    {
     "data": {
      "image/png": "[encoded data removed]",
      "text/plain": [
       "<Figure size 432x288 with 1 Axes>"
      ]
     },
     "metadata": {
      "needs_background": "light"
     },
     "output_type": "display_data"
    }
   ],
   "source": [
    "# Histograma\n",
    "plt.hist(dur_mov, bins = 10)\n",
    "plt.grid(axis='y', alpha=0.75)\n",
    "plt.xlabel('Duration (Min)')\n",
    "plt.ylabel('Number of movies')\n",
    "plt.title('Movie Durations')"
   ]
  },
  {
   "cell_type": "markdown",
   "id": "564fa227",
   "metadata": {},
   "source": [
    "Como en los datos de las películas hay outliers, hacen poco efectivo el método del histograma.\n",
    "Por lo tanto, se hará una función para contar intervalos, el último intervalo iría desde los 225 minutos hasta el valor de la película más larga. Debido a esto se hará un gráfico de barras para presentar los datos."
   ]
  },
  {
   "cell_type": "code",
   "execution_count": 9,
   "id": "8f347037",
   "metadata": {},
   "outputs": [],
   "source": [
    "# Función para contar los elementos de una lista por intervalos cerrados\n",
    "def count_interval(li, ini, fin):\n",
    "    cont = 0\n",
    "    for val in range(ini,fin+1):\n",
    "        cont = cont + li.count(val)\n",
    "    return cont;"
   ]
  },
  {
   "cell_type": "markdown",
   "id": "3f1dbfcf",
   "metadata": {},
   "source": [
    "Esta función puede ser poco eficiente ya que para los outliers se estaría iterando hasta llegar a esos valores, lo cual es una pérdida de tiempo. A continuación se hace una función que toma en cuenta solo los elementos de la lista pertenecientes al intervalo. Por ejemplo, si se tiene el array arr = [1,2,1,1,2,4,5,5,6] y se usa la función anterior en el intervalo range(1,10), se iteraría en todos los elementos del intervalo incluso cuando la lista solo llega hasta cierto valor."
   ]
  },
  {
   "cell_type": "code",
   "execution_count": 100,
   "id": "ec1a23fb",
   "metadata": {},
   "outputs": [],
   "source": [
    "# Función para contar los elementos de una lista pertenecientes a un intervalo cerrado\n",
    "def count_interval_pro(li, ini, fin):\n",
    "    con = 0\n",
    "    for val in list(set(li)):\n",
    "        if (val >= ini and val <= fin):\n",
    "            con = con + li.count(val)\n",
    "    return con"
   ]
  },
  {
   "cell_type": "code",
   "execution_count": 10,
   "id": "26dd87e2",
   "metadata": {},
   "outputs": [
    {
     "name": "stdout",
     "output_type": "stream",
     "text": [
      "El tiempo de la función ineficiente es 0.07935280000000233 mientras que el de la función mejorada es 0.02022230000000036\n"
     ]
    }
   ],
   "source": [
    "#Nomás pa ver si sí es más eficiente la nueva función, se toma el tiempo \n",
    "# de todos los valores posibles \n",
    "t0=timeit.default_timer()\n",
    "count_interval(dur_mov, 0, dur_mov[-1])\n",
    "t1 = timeit.default_timer()\n",
    "t0_pro=timeit.default_timer()\n",
    "count_interval_pro(dur_mov, 0, dur_mov[-1])\n",
    "t1_pro = timeit.default_timer()\n",
    "tnoob = t1-t0\n",
    "tpro = t1_pro-t0_pro\n",
    "print('El tiempo de la función ineficiente es ' + str(tnoob) + ' mientras que el de la función mejorada es ' + str(tpro))"
   ]
  },
  {
   "cell_type": "markdown",
   "id": "e6d566af",
   "metadata": {},
   "source": [
    "Se aprecia una diferencia notable, por lo  cual se usará solo la segunda función."
   ]
  },
  {
   "cell_type": "code",
   "execution_count": 104,
   "id": "461f497e",
   "metadata": {},
   "outputs": [],
   "source": [
    "# Se realiza una lista con la cantidad de películas en intervalos de 45 minutos\n",
    "# primero se hace una lista con los valores de los intervalos\n",
    "intervalos = list(np.array(range(0,6))*45)\n",
    "intervalos.append(dur_mov[-1])\n",
    "hist_mov = []\n",
    "for ind in range(0,len(intervalos)):\n",
    "    if ind == len(intervalos)-1:\n",
    "        break\n",
    "    else:\n",
    "        hist_mov.append(count_interval_pro(dur_mov,intervalos[ind],intervalos[ind+1]))"
   ]
  },
  {
   "cell_type": "code",
   "execution_count": 101,
   "id": "1b643349",
   "metadata": {},
   "outputs": [],
   "source": [
    "# Por otro lado, los cortos tendrán una segmentación de 5 en 5 minutos\n",
    "intervalos = list(np.array(range(0,6))*10)\n",
    "intervalos.append(dur_sho[-1])\n",
    "hist_sho = []\n",
    "for ind in range(0,len(intervalos)):\n",
    "    if ind == len(intervalos)-1:\n",
    "        break\n",
    "    else:\n",
    "        hist_sho.append(count_interval_pro(dur_sho,intervalos[ind],intervalos[ind+1]))"
   ]
  },
  {
   "cell_type": "code",
   "execution_count": 102,
   "id": "30d29120",
   "metadata": {},
   "outputs": [
    {
     "data": {
      "text/plain": [
       "208"
      ]
     },
     "execution_count": 102,
     "metadata": {},
     "output_type": "execute_result"
    }
   ],
   "source": [
    "count_interval_pro(dur_sho,0,10)"
   ]
  },
  {
   "cell_type": "markdown",
   "id": "82b5bc89",
   "metadata": {},
   "source": [
    "###### Ahora sí la gráfica"
   ]
  },
  {
   "cell_type": "code",
   "execution_count": 105,
   "id": "9e3c4851",
   "metadata": {},
   "outputs": [
    {
     "data": {
      "image/png": "[encoded data removed]",
      "text/plain": [
       "<Figure size 432x288 with 1 Axes>"
      ]
     },
     "metadata": {
      "needs_background": "light"
     },
     "output_type": "display_data"
    }
   ],
   "source": [
    "# No se usará la función histograma, sino un plot de barras\n",
    "plt.bar(intervalos[0:6], hist_mov, color ='blue',\n",
    "        width = 35, tick_label = ['0-45','45-90','90-135','135-180','180-225','<225'])\n",
    " \n",
    "plt.xlabel(\"Dutation (min)\")\n",
    "plt.ylabel(\"Number of movies\")\n",
    "plt.title(\"Movies Duration\")\n",
    "plt.show()"
   ]
  },
  {
   "cell_type": "code",
   "execution_count": 110,
   "id": "cf61a6d7",
   "metadata": {},
   "outputs": [
    {
     "data": {
      "image/png": "[encoded data removed]",
      "text/plain": [
       "<Figure size 432x288 with 1 Axes>"
      ]
     },
     "metadata": {
      "needs_background": "light"
     },
     "output_type": "display_data"
    }
   ],
   "source": [
    "# Y para los cortos\n",
    "plt.bar(intervalos[0:6], hist_sho, color ='blue',\n",
    "        width = 30, tick_label = ['0-10','10-20','20-30','30-40','40-50','<50'])\n",
    " \n",
    "plt.xlabel(\"Dutation (min)\")\n",
    "plt.ylabel(\"Number of shorts\")\n",
    "plt.title(\"Shorts Duration\")\n",
    "plt.show()"
   ]
  },
  {
   "cell_type": "code",
   "execution_count": 96,
   "id": "b0e3dab5",
   "metadata": {},
   "outputs": [
    {
     "data": {
      "text/plain": [
       "1"
      ]
     },
     "execution_count": 96,
     "metadata": {},
     "output_type": "execute_result"
    }
   ],
   "source": [
    "dur_sho[0]"
   ]
  },
  {
   "cell_type": "markdown",
   "id": "d5656c92",
   "metadata": {},
   "source": [
    "### Se realizará ahora un breve análisis de las proporciones de la duración de los cortos y películas"
   ]
  },
  {
   "cell_type": "code",
   "execution_count": 91,
   "id": "727b6810",
   "metadata": {},
   "outputs": [
    {
     "data": {
      "image/png": "[encoded data removed]",
      "text/plain": [
       "<Figure size 432x288 with 1 Axes>"
      ]
     },
     "metadata": {},
     "output_type": "display_data"
    }
   ],
   "source": [
    "# Para tener una mejor visibilidad de el porcentaje de películas en los intervalos de tiempo anteriores, se\n",
    "#harán gráficas de pastel.\n",
    "lab_mov = ['0-45','45-90','90-135','135-180','180-225','<225']\n",
    "cols = ['salmon','palegreen','skyblue','plum','pink','silver']\n",
    "explode = [0.75,0.01,0.01,0.01,0.01,0.75]\n",
    "plt.pie(hist_mov, autopct = '%.1f%%', pctdistance = 1.3, colors = cols, explode = explode)\n",
    "plt.legend(title = 'Duration (min)',labels=lab_mov, loc='center right', bbox_to_anchor=(2.2, 0.5), ncol=2)\n",
    "plt.title('Movies Proportion by Duration', fontweight = 'bold')\n",
    "plt.show()"
   ]
  },
  {
   "cell_type": "code",
   "execution_count": 124,
   "id": "64c0c239",
   "metadata": {},
   "outputs": [
    {
     "data": {
      "image/png": "[encoded data removed]",
      "text/plain": [
       "<Figure size 432x288 with 1 Axes>"
      ]
     },
     "metadata": {},
     "output_type": "display_data"
    }
   ],
   "source": [
    "# Ahora para los cortos\n",
    "lab_mov1 = ['0-10','10-20','20-30','30-40','40-50','<50']\n",
    "cols = ['salmon','palegreen','skyblue','plum','pink','silver']\n",
    "explode = [0.015,0.015,0.015,0.015,0.15,0.25]\n",
    "plt.pie(hist_sho, autopct = '%.1f%%', pctdistance = 1.15, colors = cols, explode = explode)\n",
    "plt.legend(title = 'Duration (min)',labels=lab_mov1, loc='center right', bbox_to_anchor=(1.85, 0.5), ncol=2)\n",
    "plt.title('Shorts Proportion by Duration', fontweight = 'bold')\n",
    "plt.show()"
   ]
  },
  {
   "cell_type": "markdown",
   "id": "214e2e99",
   "metadata": {},
   "source": [
    "### A continuación se hará una función que recomiende las películas o cortos aleatoriamente"
   ]
  }
 ],
 "metadata": {
  "kernelspec": {
   "display_name": "Python 3 (ipykernel)",
   "language": "python",
   "name": "python3"
  },
  "language_info": {
   "codemirror_mode": {
    "name": "ipython",
    "version": 3
   },
   "file_extension": ".py",
   "mimetype": "text/x-python",
   "name": "python",
   "nbconvert_exporter": "python",
   "pygments_lexer": "ipython3",
   "version": "3.9.5"
  }
 },
 "nbformat": 4,
 "nbformat_minor": 5
}
